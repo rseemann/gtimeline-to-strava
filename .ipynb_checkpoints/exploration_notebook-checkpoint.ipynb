{
 "cells": [
  {
   "cell_type": "code",
   "execution_count": 267,
   "metadata": {},
   "outputs": [],
   "source": [
    "import xml.etree.ElementTree as ET\n",
    "from datetime import datetime, timedelta\n",
    "\n",
    "TIMELINE_IMPORTS_FILE = 'timeline_imports/{0}.kml'\n",
    "TAG_PREFIX = '{http://www.opengis.net/kml/2.2}'\n",
    "\n",
    "CYCLING_PLACEMARK_NAME = 'Cycling'\n",
    "\n",
    "GPX_TEMPLATE = 'gpx_template.gpx'\n",
    "TEMPLATE_TAG_PREFIX = '{http://www.topografix.com/GPX/1/1}'\n",
    "\n",
    "OUTPUT_FILE = 'strava_exports/{}.gpx'\n",
    "\n",
    "DATE_FORMAT = '%Y-%m-%dT%H:%M:%S.%fZ'"
   ]
  },
  {
   "cell_type": "code",
   "execution_count": 268,
   "metadata": {},
   "outputs": [],
   "source": [
    "def find_tags(tagname, element):\n",
    "    return element.findall(TAG_PREFIX+tagname)\n",
    "\n",
    "def find_tag(tagname, element):\n",
    "    return find_tags(tagname, element)[0]\n",
    "\n",
    "def describe_children(element):\n",
    "    for child in element:\n",
    "        print(child.tag, child.attrib, child.keys(), child.items(), child.text)"
   ]
  },
  {
   "cell_type": "code",
   "execution_count": 343,
   "metadata": {},
   "outputs": [],
   "source": [
    "# Import the timeline files\n",
    "tree = ET.parse(TIMELINE_IMPORTS_FILE.format('2018-10-13'))\n",
    "root = tree.getroot()"
   ]
  },
  {
   "cell_type": "code",
   "execution_count": 344,
   "metadata": {},
   "outputs": [],
   "source": [
    "document = find_tag('Document', root)\n",
    "placemarks = find_tags('Placemark', document)\n",
    "\n",
    "def is_cycling(placemark):\n",
    "    name = find_tag('name', placemark)\n",
    "    return name.text == CYCLING_PLACEMARK_NAME\n",
    "\n",
    "def date_parser(raw_date):\n",
    "    return datetime.strptime(raw_date, DATE_FORMAT)\n",
    "\n",
    "def formatted_step(date, step):\n",
    "    return (date + timedelta(seconds=step)).strftime(DATE_FORMAT)\n",
    "\n",
    "def trackpoints_dicts(begin_time_string, end_time_string, coords_string):\n",
    "    coords = list(filter(\n",
    "        lambda coords: len(coords) == 3,\n",
    "        map(lambda coords: coords.split(','), coords_string)\n",
    "    ))\n",
    "    \n",
    "    begin_time = date_parser(begin_time_string)\n",
    "    \n",
    "    delta_seconds = (begin_time - date_parser(end_time_string)).seconds\n",
    "    step_seconds = delta_seconds/len(coords)\n",
    "    \n",
    "    return [{\n",
    "        'lon': coord[0],\n",
    "        'lat': coord[1],\n",
    "        'ele': coord[2],\n",
    "        'time': formatted_step(begin_time, step_seconds*index)\n",
    "    } for index, coord in enumerate(coords)]\n",
    "\n",
    "def placemark_trackpoints(placemark):\n",
    "    timeSpan = find_tag('TimeSpan', placemark)\n",
    "    begin_time = find_tag('begin', timeSpan).text\n",
    "    end_time = find_tag('end', timeSpan).text\n",
    "    coordinates =  find_tag('coordinates', find_tag('LineString', placemark)).text.split(' ')\n",
    "    \n",
    "    return trackpoints_dicts(begin_time, end_time, coordinates)    \n",
    "\n",
    "cycling_tracks = list(map(placemark_trackpoints, filter(is_cycling, placemarks)))"
   ]
  },
  {
   "cell_type": "code",
   "execution_count": 363,
   "metadata": {},
   "outputs": [
    {
     "name": "stdout",
     "output_type": "stream",
     "text": [
      "<gpx xmlns=\"http://www.topografix.com/GPX/1/1\" xmlns:xsi=\"http://www.w3.org/2001/XMLSchema-instance\" creator=\"Timeline Converter\" version=\"1.1\" xsi:schemaLocation=\"http://www.topografix.com/GPX/1/1 http://www.topografix.com/GPX/1/1/gpx.xsd\">\n",
      " <metadata>\n",
      "  <time>2018-10-13T10:39:52.780000Z</time>\n",
      " </metadata>\n",
      " <trk>\n",
      "  <name>Ride name</name>\n",
      "  <type>1</type>\n",
      "  <trkseg>\n",
      "  <trkpt lat=\"52.493783199999996\" lon=\"13.394772699999999\"><ele>0</ele><time>2018-10-13T10:39:52.780000Z</time></trkpt><trkpt lat=\"52.493783199999996\" lon=\"13.394772699999999\"><ele>0</ele><time>2018-10-13T11:41:00.953913Z</time></trkpt><trkpt lat=\"52.4908961\" lon=\"13.3941947\"><ele>0</ele><time>2018-10-13T12:42:09.127826Z</time></trkpt><trkpt lat=\"52.4889648\" lon=\"13.3980648\"><ele>0</ele><time>2018-10-13T13:43:17.301739Z</time></trkpt><trkpt lat=\"52.489003\" lon=\"13.3981411\"><ele>0</ele><time>2018-10-13T14:44:25.475652Z</time></trkpt><trkpt lat=\"52.4890361\" lon=\"13.3982929\"><ele>0</ele><time>2018-10-13T15:45:33.649565Z</time></trkpt><trkpt lat=\"52.4896405\" lon=\"13.3900304\"><ele>0</ele><time>2018-10-13T16:46:41.823478Z</time></trkpt><trkpt lat=\"52.4854458\" lon=\"13.3858042\"><ele>0</ele><time>2018-10-13T17:47:49.997391Z</time></trkpt><trkpt lat=\"52.4852005\" lon=\"13.3858454\"><ele>0</ele><time>2018-10-13T18:48:58.171304Z</time></trkpt><trkpt lat=\"52.4848031\" lon=\"13.38584\"><ele>0</ele><time>2018-10-13T19:50:06.345217Z</time></trkpt><trkpt lat=\"52.4848012\" lon=\"13.3857563\"><ele>0</ele><time>2018-10-13T20:51:14.519130Z</time></trkpt><trkpt lat=\"52.4848115\" lon=\"13.3857487\"><ele>0</ele><time>2018-10-13T21:52:22.693043Z</time></trkpt><trkpt lat=\"52.4842926\" lon=\"13.3853178\"><ele>0</ele><time>2018-10-13T22:53:30.866957Z</time></trkpt><trkpt lat=\"52.4840572\" lon=\"13.3845374\"><ele>0</ele><time>2018-10-13T23:54:39.040870Z</time></trkpt><trkpt lat=\"52.4808041\" lon=\"13.3792341\"><ele>0</ele><time>2018-10-14T00:55:47.214783Z</time></trkpt><trkpt lat=\"52.477535\" lon=\"13.3784179\"><ele>0</ele><time>2018-10-14T01:56:55.388696Z</time></trkpt><trkpt lat=\"52.4771401\" lon=\"13.3773997\"><ele>0</ele><time>2018-10-14T02:58:03.562609Z</time></trkpt><trkpt lat=\"52.4725022\" lon=\"13.3778849\"><ele>0</ele><time>2018-10-14T03:59:11.736522Z</time></trkpt><trkpt lat=\"52.468994\" lon=\"13.3774831\"><ele>0</ele><time>2018-10-14T05:00:19.910435Z</time></trkpt><trkpt lat=\"52.4474125\" lon=\"13.3623538\"><ele>0</ele><time>2018-10-14T06:01:28.084348Z</time></trkpt><trkpt lat=\"52.4473595\" lon=\"13.3623559\"><ele>0</ele><time>2018-10-14T07:02:36.258261Z</time></trkpt><trkpt lat=\"52.4457974\" lon=\"13.3676928\"><ele>0</ele><time>2018-10-14T08:03:44.432174Z</time></trkpt><trkpt lat=\"52.4447299\" lon=\"13.3707431\"><ele>0</ele><time>2018-10-14T09:04:52.606087Z</time></trkpt></trkseg>\n",
      " </trk>\n",
      "</gpx>\n"
     ]
    }
   ],
   "source": [
    "ET.register_namespace('', \"http://www.topografix.com/GPX/1/1\")\n",
    "ET.register_namespace('xsi', 'http://www.w3.org/2001/XMLSchema-instance')\n",
    "\n",
    "def point_tag(point_data):\n",
    "    point = ET.Element('trkpt')\n",
    "    point.set('lat', point_data['lat'])\n",
    "    point.set('lon', point_data['lon'])\n",
    "    \n",
    "    ele = ET.SubElement(point, 'ele')\n",
    "    ele.text = point_data['ele']\n",
    "    \n",
    "    time = ET.SubElement(point, 'time')\n",
    "    time.text = point_data['time']\n",
    "    \n",
    "    return point\n",
    "    \n",
    "def create_gpx_from_template(track):\n",
    "    template_tree = ET.parse(GPX_TEMPLATE)\n",
    "    template_root = template_tree.getroot()\n",
    "    \n",
    "    start_time = track[0]['time']\n",
    "    \n",
    "    time_path = TEMPLATE_TAG_PREFIX+'metadata/'+TEMPLATE_TAG_PREFIX+'time'\n",
    "    time_tag = template_root.findall(time_path)[0]\n",
    "    \n",
    "    time_tag.text = start_time\n",
    "    \n",
    "    track_segment = template_root.find(TEMPLATE_TAG_PREFIX+'trk/'+TEMPLATE_TAG_PREFIX+'trkseg')\n",
    "    track_segment.extend([point_tag(p) for p in track])\n",
    "    \n",
    "    template_tree.write(start_time+'.gpx', encoding='utf-8', xml_declaration=True)\n",
    "    \n",
    "    ET.dump(template_tree)\n",
    "    \n",
    "            \n",
    "create_gpx_from_template(cycling_tracks[0])"
   ]
  },
  {
   "cell_type": "code",
   "execution_count": 346,
   "metadata": {},
   "outputs": [],
   "source": []
  },
  {
   "cell_type": "code",
   "execution_count": 361,
   "metadata": {},
   "outputs": [
    {
     "data": {
      "text/plain": [
       "'2018-10-14T19:18:38.556042Z'"
      ]
     },
     "execution_count": 361,
     "metadata": {},
     "output_type": "execute_result"
    }
   ],
   "source": [
    "datetime.now().strftime(DATE_FORMAT)"
   ]
  },
  {
   "cell_type": "code",
   "execution_count": null,
   "metadata": {},
   "outputs": [],
   "source": []
  },
  {
   "cell_type": "code",
   "execution_count": null,
   "metadata": {},
   "outputs": [],
   "source": []
  }
 ],
 "metadata": {
  "kernelspec": {
   "display_name": "Python 3",
   "language": "python",
   "name": "python3"
  },
  "language_info": {
   "codemirror_mode": {
    "name": "ipython",
    "version": 3
   },
   "file_extension": ".py",
   "mimetype": "text/x-python",
   "name": "python",
   "nbconvert_exporter": "python",
   "pygments_lexer": "ipython3",
   "version": "3.6.5"
  }
 },
 "nbformat": 4,
 "nbformat_minor": 2
}
