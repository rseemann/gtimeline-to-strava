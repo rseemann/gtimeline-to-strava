{
 "cells": [
  {
   "cell_type": "code",
   "execution_count": 376,
   "metadata": {},
   "outputs": [],
   "source": [
    "import xml.etree.ElementTree as ET\n",
    "from datetime import datetime, timedelta\n",
    "from os import listdir\n",
    "from os.path import join\n",
    "\n",
    "TIMELINE_IMPORTS_FOLDER = 'timeline_imports'\n",
    "TAG_PREFIX = '{http://www.opengis.net/kml/2.2}'\n",
    "\n",
    "CYCLING_PLACEMARK_NAME = 'Cycling'\n",
    "\n",
    "GPX_TEMPLATE = 'gpx_template.gpx'\n",
    "TEMPLATE_TAG_PREFIX = '{http://www.topografix.com/GPX/1/1}'\n",
    "\n",
    "OUTPUT_FILE = 'strava_exports/{}.gpx'\n",
    "\n",
    "DATE_FORMAT = '%Y-%m-%dT%H:%M:%S.%fZ'"
   ]
  },
  {
   "cell_type": "code",
   "execution_count": 366,
   "metadata": {},
   "outputs": [],
   "source": [
    "def find_tags(tagname, element):\n",
    "    return element.findall(TAG_PREFIX+tagname)\n",
    "\n",
    "def find_tag(tagname, element):\n",
    "    return find_tags(tagname, element)[0]\n",
    "\n",
    "def describe_children(element):\n",
    "    for child in element:\n",
    "        print(child.tag, child.attrib, child.keys(), child.items(), child.text)"
   ]
  },
  {
   "cell_type": "code",
   "execution_count": 368,
   "metadata": {},
   "outputs": [],
   "source": [
    "document = find_tag('Document', root)\n",
    "placemarks = find_tags('Placemark', document)\n",
    "\n",
    "def is_cycling(placemark):\n",
    "    name = find_tag('name', placemark)\n",
    "    return name.text == CYCLING_PLACEMARK_NAME\n",
    "\n",
    "def date_parser(raw_date):\n",
    "    return datetime.strptime(raw_date, DATE_FORMAT)\n",
    "\n",
    "def formatted_step(date, step):\n",
    "    return (date + timedelta(seconds=step)).strftime(DATE_FORMAT)\n",
    "\n",
    "def trackpoints_dicts(begin_time_string, end_time_string, coords_string):\n",
    "    coords = list(filter(\n",
    "        lambda coords: len(coords) == 3,\n",
    "        map(lambda coords: coords.split(','), coords_string)\n",
    "    ))\n",
    "    \n",
    "    begin_time = date_parser(begin_time_string)\n",
    "    \n",
    "    delta_seconds = (begin_time - date_parser(end_time_string)).seconds\n",
    "    step_seconds = delta_seconds/len(coords)\n",
    "    \n",
    "    return [{\n",
    "        'lon': coord[0],\n",
    "        'lat': coord[1],\n",
    "        'ele': coord[2],\n",
    "        'time': formatted_step(begin_time, step_seconds*index)\n",
    "    } for index, coord in enumerate(coords)]\n",
    "\n",
    "def placemark_trackpoints(placemark):\n",
    "    timeSpan = find_tag('TimeSpan', placemark)\n",
    "    begin_time = find_tag('begin', timeSpan).text\n",
    "    end_time = find_tag('end', timeSpan).text\n",
    "    coordinates =  find_tag('coordinates', find_tag('LineString', placemark)).text.split(' ')\n",
    "    \n",
    "    return trackpoints_dicts(begin_time, end_time, coordinates)    \n",
    "\n",
    "cycling_tracks = list(map(placemark_trackpoints, filter(is_cycling, placemarks)))"
   ]
  },
  {
   "cell_type": "code",
   "execution_count": 372,
   "metadata": {},
   "outputs": [
    {
     "data": {
      "text/plain": [
       "[None, None]"
      ]
     },
     "execution_count": 372,
     "metadata": {},
     "output_type": "execute_result"
    }
   ],
   "source": [
    "def point_tag(point_data):\n",
    "    point = ET.Element('trkpt')\n",
    "    point.set('lat', point_data['lat'])\n",
    "    point.set('lon', point_data['lon'])\n",
    "    \n",
    "    ele = ET.SubElement(point, 'ele')\n",
    "    ele.text = point_data['ele']\n",
    "    \n",
    "    time = ET.SubElement(point, 'time')\n",
    "    time.text = point_data['time']\n",
    "    \n",
    "    return point\n",
    "    \n",
    "def create_gpx_from_template(track):\n",
    "    template_tree = ET.parse(GPX_TEMPLATE)\n",
    "    template_root = template_tree.getroot()\n",
    "    \n",
    "    start_time = track[0]['time']\n",
    "    \n",
    "    time_path = TEMPLATE_TAG_PREFIX+'metadata/'+TEMPLATE_TAG_PREFIX+'time'\n",
    "    time_tag = template_root.findall(time_path)[0]\n",
    "    \n",
    "    time_tag.text = start_time\n",
    "    \n",
    "    track_segment = template_root.find(TEMPLATE_TAG_PREFIX+'trk/'+TEMPLATE_TAG_PREFIX+'trkseg')\n",
    "    track_segment.extend([point_tag(p) for p in track])\n",
    "    \n",
    "    template_tree.write(OUTPUT_FILE.format(start_time), encoding='utf-8', xml_declaration=True)\n",
    "\n",
    "\n",
    "[create_gpx_from_template(track) for track in cycling_tracks]"
   ]
  },
  {
   "cell_type": "code",
   "execution_count": null,
   "metadata": {},
   "outputs": [],
   "source": [
    "for file in os.listdir(TIMELINE_IMPORTS_FOLDER):\n",
    "    if file.endswith(\".kml\"):\n",
    "        file_name = os.path.join(TIMELINE_IMPORTS_FOLDER, file)\n",
    "        \n",
    "        tree = ET.parse(TIMELINE_IMPORTS_FILE.format('2018-10-13'))\n",
    "# Import the timeline files\n",
    "# \n",
    "# root = tree.getroot()\n"
   ]
  }
 ],
 "metadata": {
  "kernelspec": {
   "display_name": "Python 3",
   "language": "python",
   "name": "python3"
  },
  "language_info": {
   "codemirror_mode": {
    "name": "ipython",
    "version": 3
   },
   "file_extension": ".py",
   "mimetype": "text/x-python",
   "name": "python",
   "nbconvert_exporter": "python",
   "pygments_lexer": "ipython3",
   "version": "3.6.5"
  }
 },
 "nbformat": 4,
 "nbformat_minor": 2
}
