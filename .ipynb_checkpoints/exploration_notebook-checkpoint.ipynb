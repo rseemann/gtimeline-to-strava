{
 "cells": [
  {
   "cell_type": "code",
   "execution_count": 235,
   "metadata": {},
   "outputs": [],
   "source": [
    "import xml.etree.ElementTree as ET\n",
    "from datetime import datetime, timedelta\n",
    "\n",
    "TIMELINE_IMPORTS_FILE_TEMPLATE = 'timeline_imports/{0}.kml'\n",
    "TAG_PREFIX = '{http://www.opengis.net/kml/2.2}'\n",
    "CYCLING_PLACEMARK_NAME = 'Cycling'\n",
    "DATE_FORMAT = '%Y-%m-%dT%H:%M:%S.%fZ'"
   ]
  },
  {
   "cell_type": "code",
   "execution_count": 113,
   "metadata": {},
   "outputs": [],
   "source": [
    "def find_tags(tagname, element):\n",
    "    return element.findall(TAG_PREFIX+tagname)\n",
    "\n",
    "def find_tag(tagname, element):\n",
    "    return find_tags(tagname, element)[0]\n",
    "\n",
    "def describe_children(element):\n",
    "    for child in element:\n",
    "        print(child.tag, child.attrib, child.keys(), child.items(), child.text)"
   ]
  },
  {
   "cell_type": "code",
   "execution_count": 114,
   "metadata": {},
   "outputs": [],
   "source": [
    "# Import the timeline files\n",
    "tree = ET.parse(TIMELINE_IMPORTS_FILE_TEMPLATE.format('2018-10-13'))\n",
    "root = tree.getroot()"
   ]
  },
  {
   "cell_type": "code",
   "execution_count": 240,
   "metadata": {},
   "outputs": [
    {
     "name": "stdout",
     "output_type": "stream",
     "text": [
      "[{'lon': '13.394772699999999', 'lat': '52.493783199999996', 'ele': '0', 'time': '10/13/2018'}, {'lon': '13.394772699999999', 'lat': '52.493783199999996', 'ele': '0', 'time': '10/13/2018'}, {'lon': '13.3941947', 'lat': '52.4908961', 'ele': '0', 'time': '10/13/2018'}, {'lon': '13.3980648', 'lat': '52.4889648', 'ele': '0', 'time': '10/13/2018'}, {'lon': '13.3981411', 'lat': '52.489003', 'ele': '0', 'time': '10/13/2018'}, {'lon': '13.3982929', 'lat': '52.4890361', 'ele': '0', 'time': '10/13/2018'}, {'lon': '13.3900304', 'lat': '52.4896405', 'ele': '0', 'time': '10/13/2018'}, {'lon': '13.3858042', 'lat': '52.4854458', 'ele': '0', 'time': '10/13/2018'}, {'lon': '13.3858454', 'lat': '52.4852005', 'ele': '0', 'time': '10/13/2018'}, {'lon': '13.38584', 'lat': '52.4848031', 'ele': '0', 'time': '10/13/2018'}, {'lon': '13.3857563', 'lat': '52.4848012', 'ele': '0', 'time': '10/13/2018'}, {'lon': '13.3857487', 'lat': '52.4848115', 'ele': '0', 'time': '10/13/2018'}, {'lon': '13.3853178', 'lat': '52.4842926', 'ele': '0', 'time': '10/13/2018'}, {'lon': '13.3845374', 'lat': '52.4840572', 'ele': '0', 'time': '10/13/2018'}, {'lon': '13.3792341', 'lat': '52.4808041', 'ele': '0', 'time': '10/14/2018'}, {'lon': '13.3784179', 'lat': '52.477535', 'ele': '0', 'time': '10/14/2018'}, {'lon': '13.3773997', 'lat': '52.4771401', 'ele': '0', 'time': '10/14/2018'}, {'lon': '13.3778849', 'lat': '52.4725022', 'ele': '0', 'time': '10/14/2018'}, {'lon': '13.3774831', 'lat': '52.468994', 'ele': '0', 'time': '10/14/2018'}, {'lon': '13.3623538', 'lat': '52.4474125', 'ele': '0', 'time': '10/14/2018'}, {'lon': '13.3623559', 'lat': '52.4473595', 'ele': '0', 'time': '10/14/2018'}, {'lon': '13.3676928', 'lat': '52.4457974', 'ele': '0', 'time': '10/14/2018'}, {'lon': '13.3707431', 'lat': '52.4447299', 'ele': '0', 'time': '10/14/2018'}]\n",
      "[{'lon': '13.3720384', 'lat': '52.4386716', 'ele': '0', 'time': '10/13/2018'}, {'lon': '13.3720384', 'lat': '52.4386716', 'ele': '0', 'time': '10/13/2018'}, {'lon': '13.3687329', 'lat': '52.438444', 'ele': '0', 'time': '10/13/2018'}, {'lon': '13.3714792', 'lat': '52.4406193', 'ele': '0', 'time': '10/13/2018'}, {'lon': '13.3700509', 'lat': '52.4453335', 'ele': '0', 'time': '10/13/2018'}, {'lon': '13.3624927', 'lat': '52.4473523', 'ele': '0', 'time': '10/13/2018'}, {'lon': '13.3682774', 'lat': '52.4501717', 'ele': '0', 'time': '10/13/2018'}, {'lon': '13.3754751', 'lat': '52.4552456', 'ele': '0', 'time': '10/13/2018'}, {'lon': '13.3760369', 'lat': '52.4577267', 'ele': '0', 'time': '10/14/2018'}, {'lon': '13.3773049', 'lat': '52.463908', 'ele': '0', 'time': '10/14/2018'}, {'lon': '13.3783793', 'lat': '52.469287', 'ele': '0', 'time': '10/14/2018'}, {'lon': '13.379451', 'lat': '52.4805507', 'ele': '0', 'time': '10/14/2018'}, {'lon': '13.3852501', 'lat': '52.4843436', 'ele': '0', 'time': '10/14/2018'}, {'lon': '13.3862869', 'lat': '52.4883606', 'ele': '0', 'time': '10/14/2018'}, {'lon': '13.3889181', 'lat': '52.4924756', 'ele': '0', 'time': '10/14/2018'}, {'lon': '13.3945199', 'lat': '52.4913789', 'ele': '0', 'time': '10/14/2018'}, {'lon': '13.394772699999999', 'lat': '52.493783199999996', 'ele': '0', 'time': '10/14/2018'}, {'lon': '13.394772699999999', 'lat': '52.493783199999996', 'ele': '0', 'time': '10/14/2018'}]\n"
     ]
    }
   ],
   "source": [
    "document = find_tag('Document', root)\n",
    "placemarks = find_tags('Placemark', document)\n",
    "\n",
    "def is_cycling(placemark):\n",
    "    name = find_tag('name', placemark)\n",
    "    return name.text == CYCLING_PLACEMARK_NAME\n",
    "\n",
    "def date_parser(raw_date):\n",
    "    return datetime.strptime(raw_date, DATE_FORMAT)\n",
    "\n",
    "def formatted_step(date, step):\n",
    "    return (date + timedelta(seconds=step)).strftime('%m/%d/%Y')\n",
    "\n",
    "def create_track_points(begin_time_string, end_time_string, coords_string):\n",
    "    coords = list(filter(\n",
    "        lambda coords: len(coords) == 3,\n",
    "        map(lambda coords: coords.split(','), coords_string)\n",
    "    ))\n",
    "    \n",
    "    begin_time = date_parser(begin_time_string)\n",
    "    \n",
    "    delta_seconds = (begin_time - date_parser(end_time_string)).seconds\n",
    "    step_seconds = delta_seconds/len(coords)\n",
    "    \n",
    "    return [{\n",
    "        'lon': coord[0],\n",
    "        'lat': coord[1],\n",
    "        'ele': coord[2],\n",
    "        'time': formatted_step(begin_time, step_seconds*index)\n",
    "    } for index, coord in enumerate(coords)]\n",
    "    \n",
    "cycling_placemarks = filter(is_cycling, placemarks)\n",
    "\n",
    "for placemark in cycling_placemarks:\n",
    "    timeSpan = find_tag('TimeSpan', placemark)\n",
    "    begin_time = find_tag('begin', timeSpan).text\n",
    "    end_time = find_tag('end', timeSpan).text\n",
    "    coordinates =  find_tag('coordinates', find_tag('LineString', placemark)).text.split(' ')\n",
    "    \n",
    "    track_points = create_track_points(begin_time, end_time, coordinates)\n",
    "    \n",
    "    print(track_points)"
   ]
  },
  {
   "cell_type": "code",
   "execution_count": 60,
   "metadata": {},
   "outputs": [],
   "source": []
  },
  {
   "cell_type": "code",
   "execution_count": 50,
   "metadata": {},
   "outputs": [],
   "source": [
    "waypoints = find_tags('wpt')\n",
    "tracks = find_tags('trk')\n",
    "\n"
   ]
  },
  {
   "cell_type": "code",
   "execution_count": null,
   "metadata": {},
   "outputs": [],
   "source": []
  },
  {
   "cell_type": "code",
   "execution_count": null,
   "metadata": {},
   "outputs": [],
   "source": []
  }
 ],
 "metadata": {
  "kernelspec": {
   "display_name": "Python 3",
   "language": "python",
   "name": "python3"
  },
  "language_info": {
   "codemirror_mode": {
    "name": "ipython",
    "version": 3
   },
   "file_extension": ".py",
   "mimetype": "text/x-python",
   "name": "python",
   "nbconvert_exporter": "python",
   "pygments_lexer": "ipython3",
   "version": "3.6.5"
  }
 },
 "nbformat": 4,
 "nbformat_minor": 2
}
